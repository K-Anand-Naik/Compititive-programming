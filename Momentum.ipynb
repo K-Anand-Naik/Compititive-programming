{
  "nbformat": 4,
  "nbformat_minor": 0,
  "metadata": {
    "colab": {
      "name": "Momentum.ipynb",
      "provenance": [],
      "collapsed_sections": [],
      "include_colab_link": true
    },
    "kernelspec": {
      "name": "python3",
      "display_name": "Python 3"
    },
    "language_info": {
      "name": "python"
    }
  },
  "cells": [
    {
      "cell_type": "markdown",
      "metadata": {
        "id": "view-in-github",
        "colab_type": "text"
      },
      "source": [
        "<a href=\"https://colab.research.google.com/github/K-Anand-Naik/Compititive-programming/blob/main/Momentum.ipynb\" target=\"_parent\"><img src=\"https://colab.research.google.com/assets/colab-badge.svg\" alt=\"Open In Colab\"/></a>"
      ]
    },
    {
      "cell_type": "markdown",
      "metadata": {
        "id": "U1k32GLIm1o5"
      },
      "source": [
        "## Momentum \n",
        "\n",
        "Momentum-based Trading is based on the assumption that Stocks which have performed well in the past, will perform better in the coming future.\n",
        " \n",
        "To define 'past', we take a variable **N**, and say that : \n",
        "\n",
        "<centre> Momentum(For A particular stock) = Close Price(Today) - Close Price(N-day ago) </centre>\n",
        "\n",
        "This gives us our first hyper-parameter (parameters of the model which could be changed in order to improve the model) : **N**\n",
        "\n",
        "We would also be reshuffling our [Portfolio](https://www.investopedia.com/terms/p/portfolio.asp) at certain intervals of time, which gives us our second hyper-parameter: **T** (The time after which we'll be reshuffling our Portfolio)\n",
        "\n",
        "Its never suggested to keep all your money invested, you must have some risk-free assets as well, so that even if you lose some of your cash in trading, you could still place better bets and regain that lost cash, Thus, We get our third Hyper-parameter: **R**, The Ratio of Total Balance, which we will using for investing.\n",
        "\n",
        "You will not be investing in all the 30 Tickers now, Will you? You will choose the top few stocks, which show the highest promise in terms of Momentum, which brings us to another hyper-parameter: **M**, The Number of Top few stocks (based on Momentum), which you'll keep in your Portfolio.\n",
        "\n",
        "Finally, There's some brokerage fee which you need to pay in order to place orders on the stock market, typically its less than 0.05% of the total amount : **F**\n"
      ]
    },
    {
      "cell_type": "code",
      "metadata": {
        "id": "GpkE6S0ZjSlB"
      },
      "source": [
        "#Importing Required Libraries\n",
        "import pandas as pd\n",
        "import numpy as np\n",
        "import datetime\n",
        "import matplotlib.pyplot as plt\n",
        "import seaborn as sns\n",
        "\n",
        "#Declaring the Hyperparameters\n",
        "\n",
        "N = 50\n",
        "T = 7\n",
        "R = 0.8\n",
        "M = 5\n",
        "F = 0.0005   # 0.5% Brokerage fee"
      ],
      "execution_count": 4,
      "outputs": []
    },
    {
      "cell_type": "markdown",
      "source": [
        ""
      ],
      "metadata": {
        "id": "W-BJBh-oPk52"
      }
    },
    {
      "cell_type": "markdown",
      "metadata": {
        "id": "DwPazs3-q618"
      },
      "source": [
        "The Second step would be to define a function which reads the Prices of various Stocks into memory.\n",
        "\n",
        "In the file DATA.csv , which we had uploaded in our repository, we have prices of 30 firms enlisted in S & P 500 Index (Apple, IBM, Cisco, Walmart and the like!) from 2nd January 2009 to 17th August 2020.\n",
        "\n",
        "For our purposes, We'll only be requiring certain columns. On an honest note, Just getting the Columns on Ticker, Date and Adjusted Closing Price would do the job, but if you want, you may take Opening Price as well.\n",
        "\n",
        "Read up about the [pandas.read_csv](https://pandas.pydata.org/docs/reference/api/pandas.read_csv.html) function from here, and figure out how you'll use it to do the job (You don't need all the columns!) "
      ]
    },
    {
      "cell_type": "code",
      "metadata": {
        "id": "9rsbAPafuUk1"
      },
      "source": [
        "def GetData(NameOfFile):\n",
        "  #START CODE HERE\n",
        "  k=pd.read_csv(NameOfFile)\n",
        "  k=k[['datadate','tic','adjcp']]\n",
        "  \n",
        "  return k  # pd.DataFrame Object"
      ],
      "execution_count": 3,
      "outputs": []
    },
    {
      "cell_type": "markdown",
      "metadata": {
        "id": "qkWJ29Kquf2B"
      },
      "source": [
        "To aid Data-Manipulation, it would be beneficial, if we split the DataFrame into many small parts each corresponding to the data corresponding to the 30 Tickers on a particular date. These small parts could then be stored in a list.\n",
        "\n",
        "We would also be needing to remember which date is at what index, so that we can use that later. "
      ]
    },
    {
      "cell_type": "code",
      "metadata": {
        "id": "d4HLxmu9HTl8"
      },
      "source": [
        "def PartitionData(Data):\n",
        "  DateToIndex=Data.datadate.unique()\n",
        "  partdata=[]\n",
        "  k=0\n",
        "\n",
        "  for i in DateToIndex:\n",
        "    s=Data.loc[Data['datadate']==DateToIndex[k]]\n",
        "    s=s.drop(['datadate'],axis=1)\n",
        "    s=s.to_numpy()\n",
        "    partdata.append(s)\n",
        "    k=k+1\n",
        "  DateToIndex=dict(enumerate(DateToIndex.flatten(), 0))\n",
        "  \n",
        "  return partdata, DateToIndex    # List containing of the Data Partitioned according to Date, and the Dictionary mapping Dates to their index in the list\n"
      ],
      "execution_count": 2,
      "outputs": []
    },
    {
      "cell_type": "markdown",
      "metadata": {
        "id": "peRRNuUQOnVM"
      },
      "source": [
        "Now, We need a function to calculate the Momentum value for all of our 30 Tickers.\n",
        "To do this, We need to have a few things in mind:\n",
        "\n",
        "\n",
        "1.   We need to start at Nth day in our list, as only then we'll be able to calculate the Momentum (This will be taken care of by later parts of the Program, when we actually run the Model)\n",
        "\n",
        "2.   The Stock Market isn't open on all days, so we often won't be able to go N days behind, and will have to take the closest value instead(We can't just go N entries behind in the List we created and expect that to work, Why?) In order to work with dates, you should get to know more about the datetime library of Python from [here](https://thispointer.com/python-how-to-convert-datetime-object-to-string-using-datetime-strftime/) (Especially the datetime.strftime() function) and about the [datetime.timedelta()](https://www.studytonight.com/python-howtos/how-to-add-days-to-date-in-python) function.\n",
        "\n",
        "Also, as you may have figured it out yourself, while DataFrames are great for Data Handling and small statistical calculations, They aren't so for big calculations as the Numpy Library has both a richer variety of functions for such manipulations and is also more efficient!\n",
        "\n",
        "After we calculate the Momentum for all our Tickers, it would be a great thing to do, if we could divide their prices by their mean(in the N day interval, as we need to see which stock outperforms others and in order to do this, it won't be fair if we take the absolute growth in numbers!(Why?)\n",
        "\n"
      ]
    },
    {
      "cell_type": "code",
      "metadata": {
        "id": "tMKHAcBnSG5n"
      },
      "source": [
        "def GetMomentumBasedPriority(PartitionedDataFrameList, DateToIndex ,today):\n",
        "  # PartitionedDataFrameList : Pandas DataFrame, The Output of your last function\n",
        "  # DateToIndex : Dictionary mapping dates to their index in the PartitionedDataFrameList\n",
        "  # today :  Today's date (string) In Format: YYYYMMDD\n",
        "\n",
        "\n",
        "  #NdaysAgo is a datatime.date() object contining the required data, you need to convert it to a string and then check if its\n",
        "  #actually there in the Data you have or will you have to get going using some other nearest date\n",
        "\n",
        "  NdaysAgo = datetime.date(int(today[0:4]),int(today[4:6]),int(today[6:])) + datetime.timedelta(days = -N)\n",
        "\n",
        "  #START CODE HERE!\n",
        "  NdaysAgo=str(NdaysAgo)\n",
        "  NdaysAgo=int(NdaysAgo[0:4]+NdaysAgo[5:7]+NdaysAgo[8:])\n",
        "  j=0\n",
        "  closestDays=[0,0,0,0]\n",
        "  for i in [-2,-1,1,2]:\n",
        "    closestDays[j] = datetime.date(int(today[0:4]),int(today[4:6]),int(today[6:])) + datetime.timedelta(days = -N+i)  \n",
        "    closestDays[j] =str(closestDays[j] )\n",
        "    closestDays[j] =int(closestDays[j] [0:4]+closestDays[j] [5:7]+closestDays[j] [8:])\n",
        "    j=j+1\n",
        "  \n",
        "  DateToIndex=np.array(list(DateToIndex.items()))[:,1]\n",
        "  if NdaysAgo in DateToIndex:\n",
        "    print('N day ago was working')\n",
        "    prevday=NdaysAgo\n",
        "  else:\n",
        "    if closestDays[1] in DateToIndex:\n",
        "      print('N-1 is working')\n",
        "      prevday=closestDays[1]\n",
        "    else:\n",
        "      if closestDays[2] in DateToIndex:\n",
        "        print('N+1 is working')\n",
        "        prevday=closestDays[2]\n",
        "      else:\n",
        "        if closestDays[0] in DateToIndex:\n",
        "          print('N-2 is working')\n",
        "          prevday=closestDays[0]\n",
        "        elif closestDays[3] in DateToIndex:\n",
        "          print('N+2 is working')\n",
        "          prevday=closestDays[3]\n",
        "        else:\n",
        "          print('ERROR: this date lies in 5 or more days of holiday')\n",
        "          prevday=0\n",
        "  \n",
        "  momentum=PartitionedDataFrameList[np.where(DateToIndex==int(today))[0][0]][:,1]-PartitionedDataFrameList[np.where(DateToIndex==int(prevday))[0][0]][:,1]\n",
        "  meancontent=[]\n",
        "  for i in range(np.where(DateToIndex==int(prevday))[0][0],int(np.where(DateToIndex==int(today))[0][0])+1):\n",
        "    meancontent.append(PartitionedDataFrameList[i][:,1])\n",
        "  meancontent=np.asarray(meancontent)\n",
        "  means=[]\n",
        "  for i in range(0,meancontent.shape[1]):\n",
        "    means.append(np.mean(meancontent[:,i]))\n",
        "  means=np.asarray(means)\n",
        "  weights=[]\n",
        "  weights.append(PartitionedDataFrameList[1][:,0])\n",
        "  weights.append(momentum/means)\n",
        "  weights=np.asarray(weights)\n",
        "  return weights   #Numpy Array containing the Momentum divided by mean(in the N-day period considered) of all the 30 tickers, in the required order.\n",
        "\n"
      ],
      "execution_count": 1,
      "outputs": []
    },
    {
      "cell_type": "markdown",
      "metadata": {
        "id": "s5QOHJ9Ra00l"
      },
      "source": [
        "Even after you have got your Momentum-based priorities, and have decided which stocks to buy and what will be the weight of each, you still need to figure out how much of each will you buy. To do this, first you'll sell all your pre-owned stocks which will increase your cash in hand, then you'll know the stocks to buy and their relative weights (given by their Momentum/mean) and you need a function which tells you how many stocks to buy for each ticker!"
      ]
    },
    {
      "cell_type": "code",
      "metadata": {
        "id": "cQg8OWVg_qo5"
      },
      "source": [
        "def GetBalanced(prices, weights,balance):\n",
        "  balance=R*balance\n",
        "  topw=np.sort(weights[1])[::-1][0:M]\n",
        "  k1=weights[1]\n",
        "  topwname=[]\n",
        "  topwnameind=[]\n",
        "  for i in topw:\n",
        "    topwnameind.append(int(list(k1).index(i)))\n",
        "    topwname.append(weights[0][list(k1).index(i)])\n",
        "  topM=np.array([np.array(topwname),topw])\n",
        "  sharecount=topM\n",
        "  const=sum(sharecount[1,:])\n",
        "  for i in range(0,len(sharecount[0])):\n",
        "    j=int(np.where(prices[:,0]==sharecount[0,i])[0])\n",
        "    sharecount[1,i]=(sharecount[1,i]*balance)/(prices[int(np.where(prices[:,0]==sharecount[0,i])[0]),1]*const)\n",
        "  return np.array([topwnameind,sharecount[1,:]])\n",
        "\n",
        "\n",
        "\n",
        "  \n",
        "   "
      ],
      "execution_count": 5,
      "outputs": []
    },
    {
      "cell_type": "markdown",
      "metadata": {
        "id": "WWN9ri-rIb3e"
      },
      "source": [
        "Now, We need something to simulate our [Portfolio](https://www.investopedia.com/terms/p/portfolio.asp). In order to do that we need a class, which has certain  basic features and functionalities.\n",
        "\n",
        "Features : \n",
        "\n",
        "\n",
        "1.   Your Initial Balance\n",
        "2.   Your Current Balance\n",
        "3.   A list(/any other container) storing the number of stocks of each ticker currently in possession. (Numpy Array prefered)\n",
        "4.   Most recent prices of all the stocks (As a Numpy array)\n",
        "\n",
        "Functionalities: \n",
        "\n",
        "\n",
        "\n",
        "1.   Calculating current Net Worth (Balance+Total Evaluation of all Stocks owned!) \n",
        "2.   Buying a Particular Stock (Keep the Transaction fee in mind!)\n",
        "3.   Selling a particular Stock whole (Keep the Transaction Fee in mind!)\n",
        "4.   Rebalance Portfolio  (Takes Numpy array as input)\n",
        "5.   Function to change the value of most recent prices stored (Takes Numpy array as input)\n",
        "\n",
        "\n",
        "\n"
      ]
    },
    {
      "cell_type": "code",
      "metadata": {
        "id": "gi60d9qUNO0_"
      },
      "source": [
        "class PortFolio:\n",
        "  def _init_(self, initbalance, posstnstock, recentprice):\n",
        "    self.initbalance=initbalance\n",
        "    self.crbalance=initbalance\n",
        "    self.posstnstock=np.array(posstnstock)\n",
        "    self.recentprice=np.array(recentprice)\n",
        "\n",
        "\n",
        "\n",
        "  def SellStock(self,index):\n",
        "    saleprice=float(self.posstnstock[index,1])*float(self.recentprice[index,1])\n",
        "    self.posstnstock[index,1]=0\n",
        "    saleprice=saleprice*(1-F)\n",
        "    self.crbalance=self.crbalance+saleprice\n",
        "    return saleprice, self.posstnstock, self.crbalance\n",
        "  # index : The index of the Stock to sell (0-29)\n",
        "  \n",
        "  def BuyStock(self, index, number):\n",
        "    self.posstnstock[index,1]=float(self.posstnstock[index,1])+number\n",
        "    self.crbalance=self.crbalance-(float(self.recentprice[index,1])*number*(1+F))\n",
        "    return self.posstnstock, self.crbalance\n",
        "  #index : The index of the Stock to buy (0-29) \n",
        "  #number : Number of shares to buy (float)\n",
        "\n",
        "  def CalculateNetWorth(self):\n",
        "    sharecost=np.asfarray(self.posstnstock[:,1])*np.asfarray(self.recentprice[:,1])\n",
        "    networth=sum(sharecost)+self.crbalance\n",
        "    return networth\n",
        "  #Return Net Worth (All Shares' costs+ Balance)\n",
        "\n",
        "\n",
        "\n",
        "  def ChangePricesTo(self, newPriceVector):\n",
        "    self.recentprice=np.array(newPriceVector)\n",
        "    return self.recentprice\n",
        "  # newPriceVector : Numpy array containing the prices of all the stocks for the current day\n",
        "    \n",
        "\n",
        "\n",
        "\n",
        "# a,b=PartitionData(GetData(\"DATA.csv\"))\n",
        "# w=GetMomentumBasedPriority(a,b,'20191113')\n",
        "# pri=np.array(list(b.items()))[:,1]\n",
        "# pri=a[int(np.where(pri==int('20191113'))[0])]\n",
        "# #print(a[np.where(b==int('2019113'))[0]])\n",
        "# #print('asvm',GetBalanced(pri,w,1000)[1,0])\n",
        "# posstock=[['AAPL', 100], ['AXP',100.26], ['BA',100.5], ['CAT',100.49], ['CSCO',100.46], ['CVX',100.28], ['DD',100.95], ['DIS',100.72], ['GS',100.32], ['HD',100.8], ['IBM',100.48], ['INTC',100.89], ['JNJ',100.27], ['JPM',100.48], ['KO',100.41], ['MCD',100.0], ['MMM',100.55], ['MRK',100.82], ['MSFT',100.31], ['NKE',100.29], ['PFE',100.6], ['PG',100.65], ['RTX',100.31], ['TRV',100.13], ['UNH',100.57], ['V',100.41], ['VZ',100.41], ['WBA',100.25], ['WMT',100.98], ['XOM',100.8]]\n",
        "# recentstock=[['AAPL', 264.47], ['AXP',120.26], ['BA',362.5], ['CAT',144.49], ['CSCO',48.46], ['CVX',122.28], ['DD',69.95], ['DIS',148.72], ['GS',219.32], ['HD',234.8], ['IBM',134.48], ['INTC',57.89], ['JNJ',131.27], ['JPM',128.48], ['KO',52.41], ['MCD',195.0], ['MMM',170.55], ['MRK',84.82], ['MSFT',147.31], ['NKE',91.29], ['PFE',36.6], ['PG',120.65], ['RTX',148.31], ['TRV',134.13], ['UNH',253.57], ['V',179.41], ['VZ',59.41], ['WBA',62.25], ['WMT',120.98], ['XOM',68.8]]\n",
        "# p=PortFolio(100000,posstock,recentstock)\n",
        "# print(p.CalculateNetWorth())\n",
        "# p.SellStock(0)\n",
        "# p.BuyStock(0,10)\n",
        "# p.CalculateNetWorth()\n",
        "# recentstock=[['AAPL', 0.47], ['AXP',0.26], ['BA',0.5], ['CAT',144.49], ['CSCO',48.46], ['CVX',122.28], ['DD',69.95], ['DIS',148.72], ['GS',219.32], ['HD',234.8], ['IBM',134.48], ['INTC',57.89], ['JNJ',131.27], ['JPM',128.48], ['KO',52.41], ['MCD',195.0], ['MMM',170.55], ['MRK',84.82], ['MSFT',147.31], ['NKE',91.29], ['PFE',36.6], ['PG',120.65], ['RTX',148.31], ['TRV',134.13], ['UNH',253.57], ['V',179.41], ['VZ',59.41], ['WBA',62.25], ['WMT',120.98], ['XOM',68.8]]\n",
        "# p.ChangePricesTo(recentstock)\n",
        "# p.CalculateNetWorth()\n",
        "# p.RebalancePortFolio(w)"
      ],
      "execution_count": 7,
      "outputs": []
    },
    {
      "cell_type": "markdown",
      "metadata": {
        "id": "PKiLs-6TB6mU"
      },
      "source": [
        "With that the difficult part is over!\n",
        "\n",
        "Now, all you need to work on is a main loop, which calls all these functions"
      ]
    },
    {
      "cell_type": "code",
      "metadata": {
        "id": "zjo2KrcaCmqf"
      },
      "source": [
        "myPortfolio = PortFolio(________)\n",
        "NetWorthAfterEachTrade = [___]\n",
        "\n",
        "\n",
        "#First Get the Data\n",
        "Data = ______________\n",
        "PartitionedData, DateToIndex= _______________\n",
        "\n",
        "#\n",
        "\n",
        "\n",
        "#Start processing from the (N+1)th Day(among the ones recorded in the Data)\n",
        "for i in range(__________,_________):\n",
        "  # Change the Prices to the ith Term\n",
        "  # Get NetWorth and store in list\n",
        "  # Check if you need to rebalance Portfolio's Today\n",
        "  # If so, do it by Calling first the GetMomentumBasedPriority function and then passing it to the rebalance function\n",
        "\n",
        "\n",
        "\n",
        "\n",
        "\n",
        "  "
      ],
      "execution_count": null,
      "outputs": []
    },
    {
      "cell_type": "markdown",
      "metadata": {
        "id": "rHB126bDE2Kn"
      },
      "source": [
        "##Moment of Truth\n",
        "\n",
        "Time to check, if your Program actually works!\n",
        "\n",
        "Plot the data you collected in various ways and see if what you did worked!\n",
        "\n",
        "Feel free to use whichever one of Matplotlib or Seaborn you want to.\n",
        "\n",
        "You should try changing the hyper-parameters to increase(/decrease) your performance!\n"
      ]
    },
    {
      "cell_type": "code",
      "metadata": {
        "id": "Z3AVQq09FxYm"
      },
      "source": [
        "def VizualizeData(________________):\n",
        "\n",
        "\n",
        "\n",
        "\n",
        "\n",
        "\n",
        "\n",
        "\n",
        "\n",
        "  "
      ],
      "execution_count": null,
      "outputs": []
    },
    {
      "cell_type": "markdown",
      "metadata": {
        "id": "cZoWhY8X9BSR"
      },
      "source": [
        "You may use this cell to write about what results you got!"
      ]
    }
  ]
}